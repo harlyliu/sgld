{
 "cells": [
  {
   "cell_type": "code",
   "execution_count": 1,
   "id": "68ff7b83-14a2-4c75-bb0d-11df00498f4b",
   "metadata": {},
   "outputs": [],
   "source": [
    "import torch\n",
    "import numpy as np\n",
    "import matplotlib.pyplot as plt\n",
    "import model\n",
    "import simulate_single_modality as simulate"
   ]
  },
  {
   "cell_type": "code",
   "execution_count": 2,
   "id": "d6684137-37a0-4994-b436-cf500835cd0a",
   "metadata": {},
   "outputs": [],
   "source": [
    "device = \"cpu\" # the device on which the model is trained, can be \"cpu\", \"cuda\" or \"mps\" (\"mps\" is only available for mac with M-series chip)\n",
    "random_seed = 2025\n",
    "r2 = 0.5 # true r2 of the simulated data\n",
    "n = 1000 # simulation sample size\n",
    "dim = 5 # dimensions of the simulated images\n",
    "coord, true_beta, img_data, y = simulate.simulate_data(n, r2, dim, random_seed)"
   ]
  },
  {
   "cell_type": "code",
   "execution_count": 3,
   "id": "414a7b19-0149-47f7-a00e-5b2f3fa64e53",
   "metadata": {},
   "outputs": [
    {
     "data": {
      "image/png": "[encoded data removed]",
      "text/plain": [
       "<Figure size 640x480 with 1 Axes>"
      ]
     },
     "metadata": {},
     "output_type": "display_data"
    }
   ],
   "source": [
    "# plot true coefficients beta\n",
    "plt.imshow(true_beta.reshape(dim, dim))\n",
    "plt.title(\"beta\")\n",
    "plt.show();"
   ]
  },
  {
   "cell_type": "code",
   "execution_count": 4,
   "id": "a41995ba-a587-43b9-9f64-b09c7ccccef6",
   "metadata": {},
   "outputs": [
    {
     "data": {
      "image/png": "[encoded data removed]",
      "text/plain": [
       "<Figure size 640x480 with 1 Axes>"
      ]
     },
     "metadata": {},
     "output_type": "display_data"
    }
   ],
   "source": [
    "# plot the 10th image\n",
    "\n",
    "plt.imshow(img_data[10].reshape(dim, dim))\n",
    "plt.title(\"image 10\")\n",
    "plt.show();"
   ]
  },
  {
   "cell_type": "code",
   "execution_count": 5,
   "id": "5af9aadd-2009-4de9-b82e-299705d421ee",
   "metadata": {},
   "outputs": [
    {
     "ename": "ModuleNotFoundError",
     "evalue": "No module named 'sklearn'",
     "output_type": "error",
     "traceback": [
      "\u001b[31m---------------------------------------------------------------------------\u001b[39m",
      "\u001b[31mModuleNotFoundError\u001b[39m                       Traceback (most recent call last)",
      "\u001b[36mCell\u001b[39m\u001b[36m \u001b[39m\u001b[32mIn[5]\u001b[39m\u001b[32m, line 1\u001b[39m\n\u001b[32m----> \u001b[39m\u001b[32m1\u001b[39m \u001b[38;5;28;01mfrom\u001b[39;00m\u001b[38;5;250m \u001b[39m\u001b[34;01msklearn\u001b[39;00m\u001b[34;01m.\u001b[39;00m\u001b[34;01mmodel_selection\u001b[39;00m\u001b[38;5;250m \u001b[39m\u001b[38;5;28;01mimport\u001b[39;00m train_test_split\n\u001b[32m      2\u001b[39m \u001b[38;5;28;01mfrom\u001b[39;00m\u001b[38;5;250m \u001b[39m\u001b[34;01mtorch\u001b[39;00m\u001b[34;01m.\u001b[39;00m\u001b[34;01mutils\u001b[39;00m\u001b[34;01m.\u001b[39;00m\u001b[34;01mdata\u001b[39;00m\u001b[38;5;250m \u001b[39m\u001b[38;5;28;01mimport\u001b[39;00m DataLoader, TensorDataset\n\u001b[32m      3\u001b[39m \u001b[38;5;28;01mimport\u001b[39;00m\u001b[38;5;250m \u001b[39m\u001b[34;01mtorch\u001b[39;00m\u001b[34;01m.\u001b[39;00m\u001b[34;01moptim\u001b[39;00m\u001b[38;5;250m \u001b[39m\u001b[38;5;28;01mas\u001b[39;00m\u001b[38;5;250m \u001b[39m\u001b[34;01moptim\u001b[39;00m\n",
      "\u001b[31mModuleNotFoundError\u001b[39m: No module named 'sklearn'"
     ]
    }
   ],
   "source": [
    "from sklearn.model_selection import train_test_split\n",
    "from torch.utils.data import DataLoader, TensorDataset\n",
    "import torch.optim as optim\n",
    "\n",
    "# create torch tensors\n",
    "y = y.reshape(-1, 1)\n",
    "y_tensor = torch.tensor(y, dtype = torch.float32).to(device)\n",
    "img_tensor = torch.tensor(img_data, dtype = torch.float32).to(device)\n",
    "\n",
    "# set random seed\n",
    "torch.manual_seed(random_seed)\n",
    "np.random.seed(random_seed)\n",
    "\n",
    "# split training and testing set and pass them into torch dataloaders\n",
    "X_train, X_test, y_train, y_test = train_test_split(img_tensor, y_tensor, test_size = 0.2, random_state = random_seed)"
   ]
  },
  {
   "cell_type": "code",
   "execution_count": null,
   "id": "8dd12a17-8d03-4476-8781-0b3385eef987",
   "metadata": {},
   "outputs": [],
   "source": [
    "# train slgd"
   ]
  },
  {
   "cell_type": "code",
   "execution_count": null,
   "id": "765c11c5-4246-4a38-b67a-c101294ae868",
   "metadata": {},
   "outputs": [],
   "source": []
  },
  {
   "cell_type": "code",
   "execution_count": null,
   "id": "5a2943b4-0df2-47d2-9368-32a4c3cb37a1",
   "metadata": {},
   "outputs": [],
   "source": []
  }
 ],
 "metadata": {
  "kernelspec": {
   "display_name": "Python 3 (ipykernel)",
   "language": "python",
   "name": "python3"
  },
  "language_info": {
   "codemirror_mode": {
    "name": "ipython",
    "version": 3
   },
   "file_extension": ".py",
   "mimetype": "text/x-python",
   "name": "python",
   "nbconvert_exporter": "python",
   "pygments_lexer": "ipython3",
   "version": "3.13.2"
  }
 },
 "nbformat": 4,
 "nbformat_minor": 5
}
